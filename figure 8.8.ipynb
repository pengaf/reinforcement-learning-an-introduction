{
 "cells": [
  {
   "cell_type": "code",
   "execution_count": 189,
   "metadata": {},
   "outputs": [
    {
     "data": {
      "text/plain": [
       "[<matplotlib.lines.Line2D at 0x1e80338caf0>]"
      ]
     },
     "execution_count": 189,
     "metadata": {},
     "output_type": "execute_result"
    },
    {
     "data": {
      "image/png": "[encoded data removed]",
      "text/plain": [
       "<Figure size 640x480 with 1 Axes>"
      ]
     },
     "metadata": {},
     "output_type": "display_data"
    }
   ],
   "source": [
    "import numpy as np\n",
    "import matplotlib.pyplot as plt\n",
    "\n",
    "\n",
    "class Model:\n",
    "    def __init__(self, num_states, num_branches) -> None:\n",
    "        self.num_states = num_states\n",
    "        self.num_branches = num_branches\n",
    "        self.trans = np.random.randint(num_states, size=(num_states, 2, num_branches))\n",
    "        self.rewards = np.random.randn(num_states, 2, num_branches)\n",
    "\n",
    "    def sample(self, state, action):\n",
    "        if np.random.random() < 0.1:\n",
    "            return 0, self.num_states\n",
    "        return self.rewards[state, action], self.trans[state, action, np.random.choice(self.num_branches)]\n",
    "        \n",
    "\n",
    "    \n",
    "def expected_update(model, num_travels, epsilon = 0.1):\n",
    "    v0s = np.zeros(num_travels)\n",
    "    qs = np.zeros((model.num_states, 2))\n",
    "    trans_prob = 0.9 / model.num_branches\n",
    "    states = np.arange(model.num_states)\n",
    "    for n in range(num_travels):\n",
    "        qs_new = np.zeros((model.num_states, 2))\n",
    "        for b in range(model.num_branches):\n",
    "            s_primes = model.trans[states, :, b] \n",
    "            qs_new += (model.rewards[states] + qs.max(1,keepdims=True))*trans_prob            \n",
    "        qs = qs_new\n",
    "        v0s[n] = qs[0].max() * 0.9 + qs[0].mean() * 0.1\n",
    "    return v0s\n",
    "\n",
    "def epsilon_greedy(qs, epsilon):\n",
    "    if np.random.random() < epsilon:\n",
    "        return np.random.choice(len(qs))\n",
    "    else:\n",
    "        return qs.argmax()\n",
    "\n",
    "def calc_start_state_value(model, qs, epsilon = 0.1):\n",
    "    v0 = 0\n",
    "    num_avg = 200\n",
    "    for n in range(num_avg):\n",
    "        state = 0\n",
    "        while state < model.num_states:\n",
    "            action = epsilon_greedy(qs[state], epsilon)\n",
    "            reward, next_state = model.sample(state, action)\n",
    "            v0 += reward\n",
    "            state = next_state\n",
    "    return v0/num_avg\n",
    "\n",
    "\n",
    "def uniform_sample(model, num_updates, stat_freq, epsilon = 0.1, alpha = 0.1):\n",
    "    num_stat = (num_updates + stat_freq - 1) // stat_freq\n",
    "    v0s = np.zeros(num_stat)\n",
    "    qs = np.zeros((model.num_states, 2))\n",
    "    for n in range(num_updates):\n",
    "        sa = n % (model.num_states*2)\n",
    "        state = sa//2#np.random.choice(model.num_states)\n",
    "        action = sa%2 #np.random.choice(2)\n",
    "        #state = n % model.num_states\n",
    "        #action = epsilon_greedy(qs[state], epsilon)\n",
    "        reward, next_state = model.sample(state, action)\n",
    "        qs_prime = (qs[next_state].max() if next_state < model.num_states else 0)\n",
    "        #if state == 0 and action==0:\n",
    "        #    print(state, action, reward, next_state, qs[state, action], reward + qs_prime)\n",
    "        qs[state, action] += (reward + qs_prime - qs[state, action]) * alpha\n",
    "        if n % stat_freq == 0:\n",
    "            v0s[n//stat_freq] = calc_start_state_value(model, qs)\n",
    "    #print(qs[0])\n",
    "    return v0s\n",
    "\n",
    "\n",
    "\n",
    "def trajectory_sample(model, num_updates, stat_freq, epsilon = 0.1, alpha = 0.1):\n",
    "    num_stat = (num_updates + stat_freq - 1) // stat_freq\n",
    "    v0s = np.zeros(num_stat)\n",
    "    qs = np.zeros((model.num_states, 2))\n",
    "    state = 0\n",
    "    for n in range(num_updates):\n",
    "        action = epsilon_greedy(qs[state], epsilon)\n",
    "        reward, next_state = model.sample(state, action)\n",
    "        if next_state < model.num_states:\n",
    "            qs[state, action] += (reward + qs[next_state].max()-qs[state, action])*alpha\n",
    "            state = next_state\n",
    "        else:\n",
    "            qs[state, action] = (reward - qs[state, action])*alpha\n",
    "            state = 0\n",
    "        if n % stat_freq == 0:\n",
    "            v0s[n//stat_freq] = calc_start_state_value(model, qs)\n",
    "    return v0s\n",
    "\n",
    "num_travels = 5\n",
    "num_runs = 100\n",
    "num_states = 1000\n",
    "num_updates = num_travels * num_states\n",
    "stat_freq = 100\n",
    "num_stat = (num_updates + stat_freq - 1) // stat_freq\n",
    "\n",
    "avg_v0s_u = np.zeros(num_stat)\n",
    "avg_v0s_t = np.zeros(num_stat)\n",
    "for r in range(num_runs):\n",
    "    #v0s = expected_update(model, num_travels)\n",
    "    model = Model(num_states,3)\n",
    "    avg_v0s_u += uniform_sample(model, num_updates, stat_freq)#trajectory_sample\n",
    "    avg_v0s_t += trajectory_sample(model, num_updates, stat_freq)#\n",
    "avg_v0s_u /= num_runs\n",
    "avg_v0s_t /= num_runs\n",
    "\n",
    "plt.plot(range(num_stat), avg_v0s_u)\n",
    "plt.plot(range(num_stat), avg_v0s_t)\n",
    "\n"
   ]
  },
  {
   "cell_type": "code",
   "execution_count": 200,
   "metadata": {},
   "outputs": [
    {
     "data": {
      "text/plain": [
       "(5.666392582389692, 3.2559936485656573, 1.7835814706610003)"
      ]
     },
     "execution_count": 200,
     "metadata": {},
     "output_type": "execute_result"
    }
   ],
   "source": [
    "def test(branch):\n",
    "    rewards = np.random.randn(10, 2, branch)\n",
    "    mean = rewards.mean(axis=2)\n",
    "    max = mean.max(axis=1)\n",
    "    return max.sum()\n",
    "\n",
    "s1 = 0.\n",
    "s3 = 0.\n",
    "s10 = 0.\n",
    "num = 10000\n",
    "for n in range(num):\n",
    "    s1 += test(1)\n",
    "    s3 += test(3)\n",
    "    s10 += test(10)\n",
    "\n",
    "s1/num, s3/num, s10/num"
   ]
  }
 ],
 "metadata": {
  "kernelspec": {
   "display_name": "Python 3",
   "language": "python",
   "name": "python3"
  },
  "language_info": {
   "codemirror_mode": {
    "name": "ipython",
    "version": 3
   },
   "file_extension": ".py",
   "mimetype": "text/x-python",
   "name": "python",
   "nbconvert_exporter": "python",
   "pygments_lexer": "ipython3",
   "version": "3.10.5"
  }
 },
 "nbformat": 4,
 "nbformat_minor": 2
}
