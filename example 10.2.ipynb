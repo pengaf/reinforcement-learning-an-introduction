{
 "cells": [
  {
   "cell_type": "code",
   "execution_count": 29,
   "metadata": {},
   "outputs": [
    {
     "name": "stdout",
     "output_type": "stream",
     "text": [
      "2.467417806465668\n"
     ]
    },
    {
     "data": {
      "text/plain": [
       "<matplotlib.image.AxesImage at 0x28e593141c0>"
      ]
     },
     "execution_count": 29,
     "metadata": {},
     "output_type": "execute_result"
    },
    {
     "data": {
      "image/png": "[encoded data removed]",
      "text/plain": [
       "<Figure size 640x480 with 1 Axes>"
      ]
     },
     "metadata": {},
     "output_type": "display_data"
    }
   ],
   "source": [
    "import numpy as np\n",
    "import matplotlib.pyplot as plt\n",
    "import random\n",
    "\n",
    "\n",
    "class AccessControlQueue:\n",
    "    def __init__(self) -> None:\n",
    "        self.state = (10, random.choice(range(4)))\n",
    "    \n",
    "    def state_shape(self):\n",
    "        return (11, 4)\n",
    "    \n",
    "    def action_shape(self):\n",
    "        return 2\n",
    "    \n",
    "    def reset(self):\n",
    "        self.state = (10, random.choice(range(4)))\n",
    "        return self.state\n",
    "    \n",
    "    def step(self, action):\n",
    "        num_free_server = self.state[0]\n",
    "\n",
    "        for _ in range(10 - num_free_server):\n",
    "            if random.random() < 0.06:\n",
    "                num_free_server += 1\n",
    "\n",
    "        client_priority = [1,2,4,8][self.state[1]]\n",
    "        if 0 == action and num_free_server > 0:\n",
    "            reward = client_priority\n",
    "            num_free_server -= 1\n",
    "        else:\n",
    "            reward = 0\n",
    "\n",
    "        #if reward:\n",
    "        #    print(num_free_server, reward)\n",
    "        self.state = (num_free_server, random.choice(range(4)))\n",
    "        return reward, self.state\n",
    "\n",
    "class ActionValueTable:\n",
    "    def __init__(self, env):\n",
    "        state_shape = env.state_shape()\n",
    "        action_shape = env.action_shape()\n",
    "        qs_shape = state_shape + (action_shape,)\n",
    "        self.qs = np.zeros(qs_shape)\n",
    "\n",
    "    #def predicate(self, state, action):\n",
    "    #    return self.qs[state, action]\n",
    "    \n",
    "    def predicate(self, state):\n",
    "        return self.qs[state]\n",
    "    \n",
    "    def train(self, state, action, delta, alpha):\n",
    "        self.qs[state][action] += alpha * delta\n",
    "\n",
    "def epsilon_greedy(qs, epsilon):\n",
    "    if random.random() < epsilon:\n",
    "        return random.choice(range(len(qs)))\n",
    "    else:\n",
    "        #ismaxs = qs.max() == qs\n",
    "        #indices = [i for i in range(len(qs)) if ismaxs[i]]\n",
    "        #return np.random.choice(indices)#slow\n",
    "        return qs.argmax()\n",
    "    \n",
    "\n",
    "def differential_semi_gradient_sarsa(env, value_function, num_steps, alpha = 0.01, beta = 0.01, epsilon = 0.1):\n",
    "    avg_reward = 0\n",
    "    state = env.reset()\n",
    "    qs = value_function.predicate(state)\n",
    "    action = epsilon_greedy(qs, epsilon)\n",
    "    for step in range(num_steps):\n",
    "        reward, next_state = env.step(action)\n",
    "        next_qs = value_function.predicate(next_state)\n",
    "        next_action = epsilon_greedy(next_qs, epsilon)\n",
    "        delta = reward - avg_reward + next_qs[next_action] - qs[action]\n",
    "        #if step % 10000 == 0:\n",
    "        #    print(delta,reward,avg_reward,next_qs[next_action],qs[action])\n",
    "        avg_reward += beta * delta\n",
    "        value_function.train(state, action, delta, alpha)\n",
    "        state = next_state\n",
    "        action = next_action\n",
    "        qs = next_qs\n",
    "        \n",
    "    print(avg_reward)\n",
    "\n",
    "env = AccessControlQueue()\n",
    "value_function = ActionValueTable(env)\n",
    "differential_semi_gradient_sarsa(env, value_function, 10000000)\n",
    "#value_function.qs.argmax(axis=2)\n",
    "plt.imshow(value_function.qs.argmax(axis=2).T)\n"
   ]
  }
 ],
 "metadata": {
  "kernelspec": {
   "display_name": "Python 3",
   "language": "python",
   "name": "python3"
  },
  "language_info": {
   "codemirror_mode": {
    "name": "ipython",
    "version": 3
   },
   "file_extension": ".py",
   "mimetype": "text/x-python",
   "name": "python",
   "nbconvert_exporter": "python",
   "pygments_lexer": "ipython3",
   "version": "3.10.5"
  }
 },
 "nbformat": 4,
 "nbformat_minor": 2
}
