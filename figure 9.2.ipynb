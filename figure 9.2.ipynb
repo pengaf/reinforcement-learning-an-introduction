{
 "cells": [
  {
   "cell_type": "code",
   "execution_count": null,
   "metadata": {},
   "outputs": [],
   "source": [
    "import numpy as np\n",
    "import matplotlib.pyplot as plt\n",
    "\n",
    "def true_value(num_states):\n",
    "    order = num_states\n",
    "    i = np.identity(order)\n",
    "    t = np.zeros_like(i)\n",
    "    for row in range(order):\n",
    "        for col in range(order):\n",
    "            dis = row - col\n",
    "            if dis >= -100 and dis <= 100 and dis != 0:\n",
    "                t[row][col] = 1.0/200.0\n",
    "\n",
    "    b = np.zeros(order)\n",
    "    for row in range(order):\n",
    "        for n in range(100):\n",
    "            if row - n - 1 < 0:\n",
    "                b[row] -= 1.0/200.0\n",
    "            if row + n + 1 >= order:\n",
    "                b[row] += 1.0/200.0\n",
    "\n",
    "b[order-2] = 0.5\n",
    "m = i - t\n",
    "s = np.linalg.solve(m,b)\n",
    "s\n",
    "\n",
    "\n"
   ]
  }
 ],
 "metadata": {
  "language_info": {
   "name": "python"
  }
 },
 "nbformat": 4,
 "nbformat_minor": 2
}
