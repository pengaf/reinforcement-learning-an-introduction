{
 "cells": [
  {
   "cell_type": "code",
   "execution_count": null,
   "metadata": {},
   "outputs": [],
   "source": [
    "from typing import Any\n",
    "import numpy as np\n",
    "import random\n",
    "\n",
    "class RandomWalk:\n",
    "    def __init__(self) -> None:\n",
    "        self.state = 9\n",
    "        pass\n",
    "    \n",
    "    def action_space(self):\n",
    "        return 2\n",
    "    \n",
    "    def state_space(self):\n",
    "        return 19\n",
    "    \n",
    "    def reset(self):\n",
    "        self.state = 9\n",
    "        return self.state\n",
    "    \n",
    "    def step_(self, action):\n",
    "        new_state = self.state + (-1 if action == 0 else 1)\n",
    "        reward = 1 if new_state == 19 else 0\n",
    "        terminated = new_state == -1 or new_state == 19\n",
    "        self.state = 9 if terminated else new_state\n",
    "        return terminated, reward, new_state\n",
    "    \n",
    "    def step(self):\n",
    "        return self.step_(random.choice(range(2)))\n",
    "    "
   ]
  }
 ],
 "metadata": {
  "language_info": {
   "name": "python"
  }
 },
 "nbformat": 4,
 "nbformat_minor": 2
}
